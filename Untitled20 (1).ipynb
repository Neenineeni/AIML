{
 "cells": [
  {
   "cell_type": "code",
   "execution_count": 44,
   "id": "7931b6f9-205d-4847-b194-a6b70db70374",
   "metadata": {},
   "outputs": [
    {
     "name": "stdout",
     "output_type": "stream",
     "text": [
      "output temperature: [34, 40, 42, 33, 29, 37, 39]\n"
     ]
    }
   ],
   "source": [
    "#a list contain average daily temperature(in degree celsius)of  a city over a particular week write python code to swap the highest and lowest temperature\n",
    "#temperature=[34,40,29,33,42,37,39]\n",
    "import pandas as pd\n",
    "import numpy as np\n",
    "temp=[34,40,29,33,42,37,39]\n",
    "max_index=temp.index(max(temp))\n",
    "min_index=temp.index(min(temp))\n",
    "temp[max_index],temp[min_index]=temp[min_index],temp[max_index]\n",
    "print(\"output temperature:\",temp)\n",
    "\n"
   ]
  },
  {
   "cell_type": "code",
   "execution_count": 58,
   "id": "77c3dac0-8553-49e1-858e-14c3f471525f",
   "metadata": {},
   "outputs": [
    {
     "name": "stdout",
     "output_type": "stream",
     "text": [
      "mean: 1955.0\n",
      "median: 500.0\n"
     ]
    }
   ],
   "source": [
    "#mean is defined as sum of all elements divided by number of element median is middle num in stored,ascending or descending of list has N numbers where N is\n",
    "# N is odd than median=(N+1/2)th element ,if N is even median is mean of (N/2)TH and (N/2+1)th element product price list=[400,250,800,350,600,820,720,15000\n",
    "# 360,250]calculate mean and median\n",
    "import pandas as pd\n",
    "import numpy as np\n",
    "prod_price_list = np.array([400,250,800,350,600,820,720,15000,360,250])\n",
    "mean=np.mean(prod_price_list)\n",
    "median=np.median(prod_price_list)\n",
    "print(\"mean:\",mean)\n",
    "print(\"median:\",median)\n",
    "                  \n"
   ]
  },
  {
   "cell_type": "code",
   "execution_count": null,
   "id": "5df05dee-6a74-45ce-b9dc-8c139be2d431",
   "metadata": {},
   "outputs": [],
   "source": [
    "#the list of tech companies     tech companies[Qual"
   ]
  }
 ],
 "metadata": {
  "kernelspec": {
   "display_name": "Python [conda env:base] *",
   "language": "python",
   "name": "conda-base-py"
  },
  "language_info": {
   "codemirror_mode": {
    "name": "ipython",
    "version": 3
   },
   "file_extension": ".py",
   "mimetype": "text/x-python",
   "name": "python",
   "nbconvert_exporter": "python",
   "pygments_lexer": "ipython3",
   "version": "3.12.7"
  }
 },
 "nbformat": 4,
 "nbformat_minor": 5
}
